{
 "cells": [
  {
   "cell_type": "markdown",
   "metadata": {},
   "source": [
    "# Default Perturbation network analysis notebook\n",
    "This notebook was automatically generated using freenrgworkflows   \n",
    "Author: Antonia Mey   \n",
    "Email: antonia.mey@ed.ac.uk"
   ]
  },
  {
   "cell_type": "code",
   "execution_count": null,
   "metadata": {},
   "outputs": [],
   "source": [
    "%pylab inline\n",
    "import networkanalysis.networkanalysis as n_graph\n",
    "import networkanalysis.plotting as n_plot\n",
    "import networkanalysis.experiments as n_ex\n",
    "import networkanalysis.stats as n_stats\n",
    "import networkanalysis\n",
    "networkanalysis.__version__"
   ]
  },
  {
   "cell_type": "code",
   "execution_count": null,
   "metadata": {},
   "outputs": [],
   "source": [
    "# Creating and populating the perturbation network\n",
    "pG = n_graph.PerturbationGraph()\n",
    "# Change the path below to the csv file containing the individual perturbations\n",
    "pG.populate_pert_graph('/Users/toni_brain/Projects/git/freenrgworkflows/tests/io/graph.csv')\n",
    "# Uncomment below if you have run multiple runs for some perturbations and add file path\n",
    "#pG.add_data_to_graph('/path/to/additional/runs.csv')\n",
    "target_compound = pG.compoundList[0] #change this to your target comound\n",
    "pG.compute_weighted_avg_paths(target_compound)\n",
    "pG.format_free_energies(merge_BM=True,intermed_ID='INT')\n",
    "computed_relative_DDGs = pG.freeEnergyInKcal\n",
    "print (\"Free energies computed from the perturbation network are: \")\n",
    "print (\"---------------------------------------- \")\n",
    "pG.write_free_energies(computed_relative_DDGs)"
   ]
  },
  {
   "cell_type": "markdown",
   "metadata": {},
   "source": [
    "\n",
    "### Experimental data\n",
    "It is useful to compare computed free energies to experimental data.\n",
    "The cells below will read in your experimental data. Just replace the path to you IC50 data in the\n",
    "`IC_50_file` variable "
   ]
  },
  {
   "cell_type": "code",
   "execution_count": null,
   "metadata": {},
   "outputs": [],
   "source": [
    "experiments = n_ex.ExperimentalData()\n",
    "IC_50_file = 'tests/io/ic50_exp.dat'\n",
    "experiments.compute_DDG_from_IC50s(IC_50_file, reference=target_compound)\n",
    "experimental_DDGs = experiments.freeEnergiesInKcal\n",
    "print (\"Free energies computed from IC50 data: \")\n",
    "print (\"---------------------------------------- \")\n",
    "pG.write_free_energies(experimental_DDGs)"
   ]
  },
  {
   "cell_type": "markdown",
   "metadata": {},
   "source": [
    "\n",
    "### Typical plots\n",
    "Below a bar plot and scatter plot template for comparing experimental and computed free energy values"
   ]
  },
  {
   "cell_type": "code",
   "execution_count": null,
   "metadata": {},
   "outputs": [],
   "source": [
    "plotter = n_plot.FreeEnergyPlotter(experimental_DDGs, computed_relative_DDGs)\n",
    "ax,fig = plotter.plot_bar_plot(legend=('experimental', 'computed'))"
   ]
  },
  {
   "cell_type": "code",
   "execution_count": null,
   "metadata": {},
   "outputs": [],
   "source": [
    "plotter.plot_scatter_plot() "
   ]
  },
  {
   "cell_type": "markdown",
   "metadata": {},
   "source": [
    "\n",
    "### Error analysis on typical statistical measures: R, MUE and Kendall tau\n",
    "Below are examples of how to resample from the data in order to obtain errorbars on Correlation coefficients, \n",
    "mean unsigned errors and Kendall tau. Returned are confidence interavals of 1 sigma. However standard deviations can also \n",
    "be returned. "
   ]
  },
  {
   "cell_type": "code",
   "execution_count": null,
   "metadata": {},
   "outputs": [],
   "source": [
    "stats = n_stats.freeEnergyStats()\n",
    "stats.generate_statistics(computed_relative_DDGs,experimental_DDGs,repeats=10000)\n",
    "r_error = stats.R_error\n",
    "tau_error = stats.tau_error\n",
    "mue_error = stats.mue_error\n",
    "print (\"R is: %.2f < %.2f < %.2f\" %(r_error[0], stats.R, r_error[1]))\n",
    "print (\"Mue is: %.2f < %.2f < %.2f\" %(mue_error[0], stats.mue, mue_error[1]))\n",
    "print (\"tau is: %.2f < %.2f < %.2f\" %(tau_error[0], stats.tau, tau_error[1]))"
   ]
  }
 ],
 "metadata": {},
 "nbformat": 4,
 "nbformat_minor": 2
}
